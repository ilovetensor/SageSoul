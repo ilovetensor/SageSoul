{
  "cells": [
    {
      "cell_type": "markdown",
      "source": [
        "# Information Retrival - Testing on subset"
      ],
      "metadata": {
        "id": "kIR53E9ouTgH"
      },
      "id": "kIR53E9ouTgH"
    },
    {
      "cell_type": "code",
      "source": [
        "import numpy as np\n",
        "import pandas as pd"
      ],
      "metadata": {
        "id": "O1zmTbEyvHSq"
      },
      "id": "O1zmTbEyvHSq",
      "execution_count": null,
      "outputs": []
    },
    {
      "cell_type": "code",
      "source": [],
      "metadata": {
        "id": "ppzPkgQOAaiR"
      },
      "id": "ppzPkgQOAaiR",
      "execution_count": null,
      "outputs": []
    },
    {
      "cell_type": "code",
      "source": [
        "!pip install gensim"
      ],
      "metadata": {
        "colab": {
          "base_uri": "https://localhost:8080/"
        },
        "id": "t95Iy_1Xkz1E",
        "outputId": "6856d7f6-7e90-4485-e4f7-2f4afde9624c"
      },
      "id": "t95Iy_1Xkz1E",
      "execution_count": null,
      "outputs": [
        {
          "output_type": "stream",
          "name": "stdout",
          "text": [
            "Requirement already satisfied: gensim in /usr/local/lib/python3.10/dist-packages (4.3.2)\n",
            "Requirement already satisfied: numpy>=1.18.5 in /usr/local/lib/python3.10/dist-packages (from gensim) (1.23.5)\n",
            "Requirement already satisfied: scipy>=1.7.0 in /usr/local/lib/python3.10/dist-packages (from gensim) (1.11.4)\n",
            "Requirement already satisfied: smart-open>=1.8.1 in /usr/local/lib/python3.10/dist-packages (from gensim) (6.4.0)\n"
          ]
        }
      ]
    },
    {
      "cell_type": "code",
      "execution_count": null,
      "id": "79e86ef9-e073-44ad-868f-8ac18e86cd2a",
      "metadata": {
        "id": "79e86ef9-e073-44ad-868f-8ac18e86cd2a"
      },
      "outputs": [],
      "source": [
        "from bs4 import BeautifulSoup\n",
        "from urllib.request import urlopen\n",
        "import re"
      ]
    },
    {
      "cell_type": "markdown",
      "source": [
        "## One Page scrapping"
      ],
      "metadata": {
        "id": "3U9zguF2NKXD"
      },
      "id": "3U9zguF2NKXD"
    },
    {
      "cell_type": "code",
      "execution_count": null,
      "id": "28d5d802-3711-4ade-90ef-a2bc22c4770c",
      "metadata": {
        "id": "28d5d802-3711-4ade-90ef-a2bc22c4770c"
      },
      "outputs": [],
      "source": [
        "url = 'https://www.carakasamhitaonline.com/index.php?title=Deerghanjiviteeya_Adhyaya'"
      ]
    },
    {
      "cell_type": "code",
      "execution_count": null,
      "id": "c3f8c66b-7295-4124-9b4c-6c94ac21326d",
      "metadata": {
        "id": "c3f8c66b-7295-4124-9b4c-6c94ac21326d"
      },
      "outputs": [],
      "source": [
        "page = urlopen(url)"
      ]
    },
    {
      "cell_type": "code",
      "execution_count": null,
      "id": "9e62c50f-2329-4257-9702-81583e43e698",
      "metadata": {
        "id": "9e62c50f-2329-4257-9702-81583e43e698"
      },
      "outputs": [],
      "source": [
        "content = page.read()"
      ]
    },
    {
      "cell_type": "code",
      "execution_count": null,
      "id": "04fc008f-26d6-4b9e-87ee-1c18f99db9cc",
      "metadata": {
        "colab": {
          "base_uri": "https://localhost:8080/"
        },
        "id": "04fc008f-26d6-4b9e-87ee-1c18f99db9cc",
        "outputId": "8389959f-6856-4021-d348-ffb65be953e2"
      },
      "outputs": [
        {
          "output_type": "execute_result",
          "data": {
            "text/plain": [
              "(95, 127)"
            ]
          },
          "metadata": {},
          "execution_count": 186
        }
      ],
      "source": [
        "html = content.decode('utf-8')\n",
        "html.find('<title>'), html.find('</title')"
      ]
    },
    {
      "cell_type": "code",
      "execution_count": null,
      "id": "b41b0f9d-2778-4a82-8556-8c0ac70fcf70",
      "metadata": {
        "colab": {
          "base_uri": "https://localhost:8080/",
          "height": 36
        },
        "id": "b41b0f9d-2778-4a82-8556-8c0ac70fcf70",
        "outputId": "6382350a-3058-4eb9-aea4-4f43ba06bc13"
      },
      "outputs": [
        {
          "output_type": "execute_result",
          "data": {
            "text/plain": [
              "'Deerghanjiviteeya'"
            ],
            "application/vnd.google.colaboratory.intrinsic+json": {
              "type": "string"
            }
          },
          "metadata": {},
          "execution_count": 187
        }
      ],
      "source": [
        "html[95+7:119]"
      ]
    },
    {
      "cell_type": "code",
      "execution_count": null,
      "id": "54eb9272-635e-41fa-b4f2-80db08002b8d",
      "metadata": {
        "colab": {
          "base_uri": "https://localhost:8080/"
        },
        "id": "54eb9272-635e-41fa-b4f2-80db08002b8d",
        "outputId": "bce82007-b7bf-48e2-836b-e9cb9247f03a"
      },
      "outputs": [
        {
          "output_type": "execute_result",
          "data": {
            "text/plain": [
              "1003"
            ]
          },
          "metadata": {},
          "execution_count": 188
        }
      ],
      "source": [
        "len(re.findall('<p>', html))"
      ]
    },
    {
      "cell_type": "markdown",
      "id": "2e8fc760-5555-4bd3-9ae4-d86bcd84dfdd",
      "metadata": {
        "id": "2e8fc760-5555-4bd3-9ae4-d86bcd84dfdd"
      },
      "source": [
        "### Beautiful Soup"
      ]
    },
    {
      "cell_type": "code",
      "execution_count": null,
      "id": "d2ce2215-87db-4df1-895d-2c25f0e9c499",
      "metadata": {
        "id": "d2ce2215-87db-4df1-895d-2c25f0e9c499"
      },
      "outputs": [],
      "source": [
        "soup = BeautifulSoup(html, 'html.parser')"
      ]
    },
    {
      "cell_type": "code",
      "execution_count": null,
      "id": "9ae708f9-b84b-49a2-86e7-3c35ad0b702e",
      "metadata": {
        "colab": {
          "base_uri": "https://localhost:8080/",
          "height": 36
        },
        "id": "9ae708f9-b84b-49a2-86e7-3c35ad0b702e",
        "outputId": "a8038b1f-ad0c-4b47-819e-26d3943e3d3b"
      },
      "outputs": [
        {
          "output_type": "execute_result",
          "data": {
            "text/plain": [
              "'Deerghanjiviteeya Adhyaya'"
            ],
            "application/vnd.google.colaboratory.intrinsic+json": {
              "type": "string"
            }
          },
          "metadata": {},
          "execution_count": 190
        }
      ],
      "source": [
        "# print(soup.get_text())\n",
        "soup.title.string"
      ]
    },
    {
      "cell_type": "code",
      "execution_count": null,
      "id": "b621cf9c-6d4a-47b8-8961-11d1d3ba5d27",
      "metadata": {
        "id": "b621cf9c-6d4a-47b8-8961-11d1d3ba5d27"
      },
      "outputs": [],
      "source": [
        "texts = [x.text for x in soup.find_all('p')]"
      ]
    },
    {
      "cell_type": "markdown",
      "id": "c29e6a28-f38c-4a7b-bb3d-f75982ba8bac",
      "metadata": {
        "id": "c29e6a28-f38c-4a7b-bb3d-f75982ba8bac"
      },
      "source": [
        "# **Cleaning**"
      ]
    },
    {
      "cell_type": "markdown",
      "source": [
        "#### Removing sanskrit"
      ],
      "metadata": {
        "id": "AHi-v2vVjqep"
      },
      "id": "AHi-v2vVjqep"
    },
    {
      "cell_type": "code",
      "execution_count": null,
      "id": "d6625587-c3b1-44cb-82ce-fb22e7694404",
      "metadata": {
        "id": "d6625587-c3b1-44cb-82ce-fb22e7694404"
      },
      "outputs": [],
      "source": [
        "def is_sanskrit(text):\n",
        "    # Define the Unicode range for Sanskrit characters\n",
        "    sanskrit_range = re.compile(\"[\\u0900-\\u097F]+\", re.UNICODE)\n",
        "\n",
        "    # Check if the text contains Sanskrit characters\n",
        "    return bool(sanskrit_range.search(text))"
      ]
    },
    {
      "cell_type": "code",
      "execution_count": null,
      "id": "f6c0f526-111c-4289-bdb6-5ceda076b53d",
      "metadata": {
        "id": "f6c0f526-111c-4289-bdb6-5ceda076b53d"
      },
      "outputs": [],
      "source": [
        "\n",
        "def remove_sanskrit_elements(input_list):\n",
        "    # Use list comprehension to filter out Sanskrit elements\n",
        "    filtered_list = [element for element in input_list if not is_sanskrit(element)]\n",
        "\n",
        "    return filtered_list"
      ]
    },
    {
      "cell_type": "code",
      "execution_count": null,
      "id": "19db2cfd-707b-404b-847e-4b5e24490156",
      "metadata": {
        "id": "19db2cfd-707b-404b-847e-4b5e24490156"
      },
      "outputs": [],
      "source": [
        "filtered = remove_sanskrit_elements(texts)"
      ]
    },
    {
      "cell_type": "code",
      "execution_count": null,
      "id": "eeb5ec95-28a3-419c-b7c2-da3e76d543bd",
      "metadata": {
        "id": "eeb5ec95-28a3-419c-b7c2-da3e76d543bd"
      },
      "outputs": [],
      "source": []
    },
    {
      "cell_type": "code",
      "execution_count": null,
      "id": "b6622146-c3f0-4ccd-af9b-e2231cccb0cc",
      "metadata": {
        "id": "b6622146-c3f0-4ccd-af9b-e2231cccb0cc"
      },
      "outputs": [],
      "source": [
        "def has_pattern(text, pattern):\n",
        "    # Use re.search to check if the pattern is present in the text\n",
        "    return bool(re.search(pattern, text))\n",
        "\n",
        "def remove_strings_with_pattern(input_list, pattern):\n",
        "    # Use list comprehension to filter out strings with the specified pattern\n",
        "    filtered_list = [element for element in input_list if not has_pattern(element, pattern)]\n",
        "\n",
        "    return filtered_list"
      ]
    },
    {
      "cell_type": "code",
      "execution_count": null,
      "id": "65393104-cd69-422d-b33e-22ac29601d16",
      "metadata": {
        "id": "65393104-cd69-422d-b33e-22ac29601d16"
      },
      "outputs": [],
      "source": [
        "filtered2 = remove_strings_with_pattern(filtered, r\"\\|\")"
      ]
    },
    {
      "cell_type": "code",
      "execution_count": null,
      "id": "b6f39bb2-3f87-41a3-b0e5-4ba33ac27600",
      "metadata": {
        "id": "b6f39bb2-3f87-41a3-b0e5-4ba33ac27600"
      },
      "outputs": [],
      "source": []
    },
    {
      "cell_type": "markdown",
      "source": [
        "#### Removing spaces, stopwords"
      ],
      "metadata": {
        "id": "XkgJ0REjjuni"
      },
      "id": "XkgJ0REjjuni"
    },
    {
      "cell_type": "code",
      "source": [
        "import gensim\n",
        "from gensim.parsing.preprocessing import remove_stopwords\n"
      ],
      "metadata": {
        "id": "co7LSA4Lknd2"
      },
      "id": "co7LSA4Lknd2",
      "execution_count": null,
      "outputs": []
    },
    {
      "cell_type": "code",
      "source": [
        "def clean_sentence(sentence, stopwords=False):\n",
        "  sentence = sentence.lower().strip()\n",
        "  sentence = re.sub(r'[^a-z]', ' ', sentence)\n",
        "  if stopwords:\n",
        "    sentence = remove_stopwords(sentence)\n",
        "  return sentence\n",
        "clean_sentence(filtered2[74], stopwords=True)"
      ],
      "metadata": {
        "colab": {
          "base_uri": "https://localhost:8080/",
          "height": 72
        },
        "id": "fJ_uWfz0jy7_",
        "outputId": "10eea14a-bced-4dc8-851f-71aa6abce3c0"
      },
      "id": "fJ_uWfz0jy7_",
      "execution_count": null,
      "outputs": [
        {
          "output_type": "execute_result",
          "data": {
            "text/plain": [
              "'urine buffalo provides relief piles edema disorders leading general enlargement abdomen udara urine elephant salty provides relief worms dermatoses kushtha useful treatment retention feces urine poisoning kapha disorders piles'"
            ],
            "application/vnd.google.colaboratory.intrinsic+json": {
              "type": "string"
            }
          },
          "metadata": {},
          "execution_count": 198
        }
      ]
    },
    {
      "cell_type": "code",
      "source": [
        "filtered3 = [clean_sentence(para, True) for para in filtered2]"
      ],
      "metadata": {
        "id": "ZMYNo1xgmB4i"
      },
      "id": "ZMYNo1xgmB4i",
      "execution_count": null,
      "outputs": []
    },
    {
      "cell_type": "code",
      "source": [
        "len(texts),len(filtered), len(filtered2), len(filtered3)"
      ],
      "metadata": {
        "colab": {
          "base_uri": "https://localhost:8080/"
        },
        "id": "QobbxBa0macB",
        "outputId": "2a5d420a-bd4b-47a8-b3ff-80b439d194f2"
      },
      "id": "QobbxBa0macB",
      "execution_count": null,
      "outputs": [
        {
          "output_type": "execute_result",
          "data": {
            "text/plain": [
              "(1004, 717, 149, 149)"
            ]
          },
          "metadata": {},
          "execution_count": 200
        }
      ]
    },
    {
      "cell_type": "code",
      "source": [
        "def tokenize_text(text):\n",
        "  \"\"\"Make all necessary preprocessing of text: cleaning text and tokenizing it\"\"\"\n",
        "\n",
        "\n",
        "  cleaned = clean_sentence(text, True)\n",
        "  return [word for word in cleaned.split()]"
      ],
      "metadata": {
        "id": "M--E8RXiGaT_"
      },
      "id": "M--E8RXiGaT_",
      "execution_count": null,
      "outputs": []
    },
    {
      "cell_type": "code",
      "source": [],
      "metadata": {
        "id": "dTVdNlKrMEMs"
      },
      "id": "dTVdNlKrMEMs",
      "execution_count": null,
      "outputs": []
    },
    {
      "cell_type": "markdown",
      "id": "84d438ad-4d29-4278-9001-7ac9adc3cc03",
      "metadata": {
        "id": "84d438ad-4d29-4278-9001-7ac9adc3cc03"
      },
      "source": [
        "## Inverted Index"
      ]
    },
    {
      "cell_type": "code",
      "source": [
        "def inverted_index(words):\n",
        "  \"\"\"\n",
        "  create inverted index of words from list of terms\n",
        "  \"\"\"\n",
        "  inverted = {}\n",
        "  for index, word in enumerate(words):\n",
        "    location = inverted.setdefault(word, [])\n",
        "    location.append(index)\n",
        "  return inverted\n",
        "\n",
        "def inverted_index_add(inverted, doc_id, doc_index):\n",
        "  for word in doc_index.keys():\n",
        "    locations = doc_index[word]\n",
        "    indices = inverted.setdefault(word, {})\n",
        "    indices[doc_id] = locations\n",
        "  return inverted"
      ],
      "metadata": {
        "id": "e9PcX9WidJK4"
      },
      "id": "e9PcX9WidJK4",
      "execution_count": null,
      "outputs": []
    },
    {
      "cell_type": "code",
      "source": [
        "inverted_doc_indexes = {}\n",
        "para_with_index={}\n",
        "doc_id = 0\n",
        "for index, para in enumerate(filtered3):\n",
        "  words = para.split()\n",
        "  para_with_index[index] = words\n",
        "\n",
        "  doc_index = inverted_index(words)\n",
        "\n",
        "  inverted_index_add(inverted_doc_indexes, doc_id, doc_index)\n",
        "  doc_id += 1"
      ],
      "metadata": {
        "id": "qrYfvJLshe44"
      },
      "id": "qrYfvJLshe44",
      "execution_count": null,
      "outputs": []
    },
    {
      "cell_type": "code",
      "source": [
        "inverted_doc_indexes['piles']"
      ],
      "metadata": {
        "colab": {
          "base_uri": "https://localhost:8080/"
        },
        "id": "5JPAoC5ZhoNs",
        "outputId": "cb5516df-f20f-4161-9b95-d69ae37a1ee2"
      },
      "id": "5JPAoC5ZhoNs",
      "execution_count": null,
      "outputs": [
        {
          "output_type": "execute_result",
          "data": {
            "text/plain": [
              "{68: [24], 74: [4, 28], 75: [8], 85: [10]}"
            ]
          },
          "metadata": {},
          "execution_count": 203
        }
      ]
    },
    {
      "cell_type": "code",
      "source": [
        "para_with_index[41][2]"
      ],
      "metadata": {
        "colab": {
          "base_uri": "https://localhost:8080/",
          "height": 36
        },
        "id": "h6jw4s1ywwIJ",
        "outputId": "e44d8552-fe42-4c73-8ded-755da9b2bc03"
      },
      "id": "h6jw4s1ywwIJ",
      "execution_count": null,
      "outputs": [
        {
          "output_type": "execute_result",
          "data": {
            "text/plain": [
              "'cold'"
            ],
            "application/vnd.google.colaboratory.intrinsic+json": {
              "type": "string"
            }
          },
          "metadata": {},
          "execution_count": 204
        }
      ]
    },
    {
      "cell_type": "code",
      "source": [
        "filtered2[85]"
      ],
      "metadata": {
        "colab": {
          "base_uri": "https://localhost:8080/",
          "height": 109
        },
        "id": "SXZf0sCnwv6C",
        "outputId": "7c79e2a7-1794-4b01-cfdb-6b3ad787df12"
      },
      "id": "SXZf0sCnwv6C",
      "execution_count": null,
      "outputs": [
        {
          "output_type": "execute_result",
          "data": {
            "text/plain": [
              "'The barks of Putika and Tilvaka are used for purgation therapy. Indications of bark of Krishnagandha are erysipelas, inflammation, piles, ringworm, abscess, nodules, dermatosis and gangrene (alaji). The wise physician should also acquire the knowledge of the above mentioned six plants (three with latex and three with bark) of their pacification actions. [117-118]\\n'"
            ],
            "application/vnd.google.colaboratory.intrinsic+json": {
              "type": "string"
            }
          },
          "metadata": {},
          "execution_count": 205
        }
      ]
    },
    {
      "cell_type": "code",
      "source": [],
      "metadata": {
        "id": "vaCBuEUAwv3a"
      },
      "id": "vaCBuEUAwv3a",
      "execution_count": null,
      "outputs": []
    },
    {
      "cell_type": "markdown",
      "source": [
        "### Bag of Words"
      ],
      "metadata": {
        "id": "LSH9bLS7pNpY"
      },
      "id": "LSH9bLS7pNpY"
    },
    {
      "cell_type": "code",
      "source": [
        "from gensim import corpora"
      ],
      "metadata": {
        "id": "NWRSenN8pnPY"
      },
      "id": "NWRSenN8pnPY",
      "execution_count": null,
      "outputs": []
    },
    {
      "cell_type": "code",
      "source": [
        "sentences = filtered3\n",
        "sentence_words = [[word for word in document.split()] for document in sentences]\n",
        "dictionary = corpora.Dictionary(sentence_words)\n",
        "corpus = [dictionary.doc2bow(text) for text in sentence_words]\n",
        "# for sent, embedding in zip(sentences, corpus):\n",
        "#   print(sent)\n",
        "#   print(embedding)\n"
      ],
      "metadata": {
        "id": "4WIU-lDgnHxM"
      },
      "id": "4WIU-lDgnHxM",
      "execution_count": null,
      "outputs": []
    },
    {
      "cell_type": "code",
      "source": [
        "\n"
      ],
      "metadata": {
        "id": "fHyQxvybwAMH"
      },
      "id": "fHyQxvybwAMH",
      "execution_count": null,
      "outputs": []
    },
    {
      "cell_type": "code",
      "source": [],
      "metadata": {
        "id": "zlRienUtwADT"
      },
      "id": "zlRienUtwADT",
      "execution_count": null,
      "outputs": []
    },
    {
      "cell_type": "markdown",
      "source": [
        "### TF-IDF"
      ],
      "metadata": {
        "id": "xAdv_B_Isbi_"
      },
      "id": "xAdv_B_Isbi_"
    },
    {
      "cell_type": "code",
      "source": [
        "# from sklearn.feature_extraction.text import TfidfVectorizer\n",
        "# tfidfvectoriser = TfidfVectorizer()\n",
        "# tfidfvectoriser.fit(filtered3)\n",
        "# tfidf_vectors = tfidfvectoriser.transform(filtered3)\n",
        "# print(tfidf_vectors)"
      ],
      "metadata": {
        "id": "K9wQF_VRpx11"
      },
      "id": "K9wQF_VRpx11",
      "execution_count": null,
      "outputs": []
    },
    {
      "cell_type": "code",
      "source": [
        "from collections import Counter"
      ],
      "metadata": {
        "id": "H9JhO3oNCCEJ"
      },
      "id": "H9JhO3oNCCEJ",
      "execution_count": null,
      "outputs": []
    },
    {
      "cell_type": "code",
      "source": [
        "DF = {}\n",
        "for word in inverted_doc_indexes.keys():\n",
        "  DF[word] = len([doc for doc in inverted_doc_indexes[word]])\n",
        "\n",
        "total_vocab_size = len(DF)\n",
        "print()"
      ],
      "metadata": {
        "colab": {
          "base_uri": "https://localhost:8080/"
        },
        "id": "GLwV8oCbCGGH",
        "outputId": "ea9fa928-062a-45cb-993f-f86bf680024a"
      },
      "id": "GLwV8oCbCGGH",
      "execution_count": null,
      "outputs": [
        {
          "output_type": "stream",
          "name": "stdout",
          "text": [
            "{'sutra': 6, 'sthana': 6, 'chapter': 13, 'longevity': 8, 'abstract': 1, 'title': 1, 'charak': 7, 'samhita': 5, 's': 9, 'deerghanjiviteeya': 2, 'adhyaya': 2, 'literally': 1, 'means': 4, 'symbolic': 2, 'implies': 3, 'ayurveda': 34, 'merely': 1, 'science': 3, 'life': 21, 'deliberates': 2, 'purpose': 5, 'long': 7, 'health': 14, 'achieving': 2, 'primary': 2, 'instincts': 2, 'human': 10, 'beings': 6, 'purushartha': 1, 'chatustaya': 1, 'virtue': 3, 'dharma': 2, 'wealth': 4, 'artha': 2, 'gratification': 3, 'kama': 2, 'emancipation': 6, 'moksha': 3, 'basic': 4, 'tenets': 5, 'scope': 3, 'explained': 3, 'introduces': 1, 'fundamental': 5, 'principles': 5, 'including': 5, 'definition': 5, 'objective': 2, 'concept': 5, 'sharira': 4, 'bodily': 2, 'dosha': 14, 'qualities': 9, 'manasa': 1, 'mental': 4, 'treatment': 10, 'theory': 3, 'similarity': 6, 'samanya': 12, 'dissimilarity': 6, 'vishesha': 11, 'pharmaco': 1, 'therapeutic': 10, 'aspects': 6, 'classification': 5, 'drugs': 33, 'list': 2, 'herbs': 8, 'animal': 7, 'products': 4, 'useful': 7, 'purification': 4, 'pacification': 3, 'therapies': 3, 'highlighted': 1, 'deliberations': 2, 'essentially': 1, 'lays': 1, 'foundation': 1, 'building': 1, 'body': 20, 'knowledge': 23, 'sciences': 2, 'healthcare': 1, 'known': 7, 'keywords': 1, 'dravya': 17, 'material': 4, 'mahabhuta': 6, 'panchamahabhuta': 3, 'guna': 16, 'karma': 12, 'rasa': 9, 'vata': 9, 'pitta': 11, 'kapha': 11, 'rajas': 2, 'tamas': 2, 'sattva': 1, 'good': 12, 'bad': 3, 'physicians': 5, 'medical': 2, 'ethics': 1, 'begins': 1, 'detailing': 1, 'attaining': 1, 'healthy': 4, 'happy': 3, 'explaining': 1, 'certain': 6, 'consequent': 1, 'foundational': 2, 'concepts': 3, 'necessary': 4, 'build': 1, 'provides': 8, 'description': 2, 'origin': 9, 'critical': 1, 'ayu': 8, 'span': 4, 'qualitative': 2, 'dimensions': 1, 'arogya': 1, 'earth': 6, 'process': 4, 'scientific': 3, 'inquiry': 1, 'creation': 2, 'involves': 1, 'community': 1, 'people': 4, 'societies': 1, 'large': 2, 'loka': 1, 'believed': 1, 'created': 1, 'interchange': 1, 'information': 2, 'patients': 3, 'practitioners': 2, 'researchers': 1, 'modes': 1, 'interaction': 1, 'theorized': 1, 'supported': 1, 'applicable': 2, 'evidence': 1, 'logic': 1, 'documented': 2, 'systematically': 2, 'scriptures': 1, 'shaastra': 1, 'explains': 2, 'mode': 4, 'ayurvedic': 7, 'corresponds': 1, 'current': 2, 'method': 1, 'higher': 2, 'levels': 1, 'inferences': 1, 'delivered': 2, 'public': 1, 'use': 14, 'dynamic': 3, 'iterative': 2, 'involving': 1, 'stops': 1, 'static': 1, 'dropped': 1, 'history': 1, 'search': 1, 'new': 4, 'alternative': 2, 'continues': 3, 'emergence': 1, 'ayurvedavatarana': 1, 'described': 24, 'viewed': 1, 'perspective': 2, 'touches': 1, 'dimensional': 1, 'categorization': 2, 'sukhayu': 1, 'duhkhayu': 1, 'unhappy': 2, 'hitayu': 1, 'positive': 1, 'harmony': 2, 'self': 4, 'surroundings': 1, 'ahitayu': 1, 'negative': 1, 'state': 5, 'mind': 13, 'disharmony': 1, 'reflecting': 1, 'individual': 5, 'social': 1, 'deals': 2, 'doctrine': 1, 'similar': 5, 'dissimilar': 3, 'samgraha': 1, 'physical': 4, 'attributes': 2, 'causes': 7, 'ill': 1, 'taste': 10, 'significance': 2, 'tastes': 6, 'nature': 5, 'world': 7, 'range': 1, 'materia': 1, 'medica': 1, 'overall': 1, 'expect': 2, 'treatise': 2, 'gives': 2, 'guidelines': 3, 'important': 8, 'understand': 6, 'text': 1, 'physician': 19, 'materials': 3, 'formulating': 1, 'detailed': 1, 'taxonomy': 1, 'groups': 4, 'medications': 1, 'recipes': 1, 'properties': 26, 'actions': 16, 'ingredient': 1, 'group': 6, 'zero': 1, 'generic': 1, 'specific': 10, 'entire': 1, 'universe': 3, 'ingredients': 1, 'classified': 5, 'maintaining': 3, 'treating': 2, 'disorders': 9, 'finally': 1, 'harmful': 2, 'categories': 4, 'e': 18, 'diseases': 14, 'dividing': 1, 'ways': 4, 'general': 6, 'sources': 3, 'viz': 6, 'based': 7, 'plant': 7, 'mineral': 1, 'sub': 1, 'according': 3, 'parts': 1, 'fruits': 5, 'roots': 4, 'latex': 6, 'bark': 4, 'relevant': 2, 'examples': 1, 'subdivided': 1, 'applicability': 1, 'therapeutics': 2, 'g': 10, 'vamana': 3, 'emesis': 5, 'virechana': 3, 'purgation': 6, 'basti': 2, 'enema': 5, 'place': 3, 'later': 1, 'chapters': 1, 'types': 12, 'salts': 6, 'urine': 16, 'suggests': 2, 'beginners': 1, 'help': 6, 'local': 2, 'communities': 1, 'living': 12, 'forests': 1, 'herders': 2, 'identifying': 1, 'denounces': 1, 'quackery': 1, 'little': 1, 'limited': 1, 'plants': 14, 'considers': 1, 'best': 12, 'pharmacology': 1, 'administration': 5, 'condition': 1, 'patient': 4, 'exploitation': 1, 'helpless': 1, 'considered': 5, 'sin': 1, 'summary': 1, 'aspiring': 2, 'practitioner': 2, 'course': 2, 'teaches': 1, 'practices': 1, 'leading': 3, 'shall': 1, 'expound': 1, 'said': 7, 'lord': 5, 'atreya': 7, 'note': 2, 'conversation': 1, 'preceptor': 1, 'aterya': 1, 'disciple': 1, 'agnivesha': 4, 'transfer': 1, 'oral': 2, 'tradition': 1, 'guru': 4, 'shishya': 1, 'introductory': 1, 'verses': 9, 'told': 1, 'bharadwaja': 6, 'great': 7, 'scholar': 1, 'went': 1, 'king': 2, 'gods': 4, 'saviour': 1, 'indra': 4, 'quest': 2, 'entirety': 1, 'recited': 1, 'brahma': 2, 'received': 3, 'prajapati': 1, 'ashwins': 1, 'fully': 1, 'beseeched': 1, 'sages': 9, 'came': 1, 'started': 2, 'blighting': 1, 'creating': 2, 'impediments': 1, 'penance': 2, 'tapa': 1, 'abstinence': 1, 'upavasa': 1, 'study': 2, 'adhyayana': 1, 'celibacy': 1, 'bramhacharya': 1, 'religious': 1, 'observance': 1, 'vrata': 1, 'ayusha': 1, 'mankind': 1, 'holy': 1, 'compassion': 2, 'creatures': 3, 'assembled': 1, 'auspicious': 2, 'near': 2, 'himalayas': 1, 'angira': 1, 'jamadagni': 1, 'vashishtha': 1, 'kashyapa': 1, 'bhrigu': 1, 'gautam': 1, 'samkhya': 1, 'pulastya': 1, 'narada': 1, 'asita': 1, 'agastya': 1, 'vamadeva': 1, 'markandeya': 1, 'ashvalayana': 1, 'parikshi': 1, 'bhikshu': 1, 'kapinjala': 1, 'vishwamitra': 1, 'ashmarathya': 1, 'bhargava': 1, 'chyavana': 1, 'abhijit': 1, 'gargya': 1, 'shandilya': 1, 'kaundinya': 1, 'lya': 1, 'varkshi': 1, 'devala': 1, 'galava': 1, 'sankrutya': 1, 'baijavapi': 1, 'kushika': 1, 'badarayana': 1, 'badisha': 1, 'sharaloma': 1, 'kapya': 1, 'katyayana': 1, 'kankayana': 1, 'kaikasheya': 1, 'dhaumya': 1, 'maricha': 2, 'sharkaraksha': 1, 'hiranyaksha': 1, 'lokaksha': 1, 'paingi': 1, 'shaunaka': 1, 'shakunteya': 1, 'maitreya': 1, 'maimatayani': 1, 'vaikhanasa': 1, 'valakhilya': 1, 'orders': 1, 'spiritual': 1, 'control': 2, 'restraint': 3, 'illumined': 1, 'brilliance': 1, 'like': 18, 'having': 12, 'oblations': 1, 'took': 1, 'seats': 1, 'comfortably': 1, 'held': 1, 'source': 4, 'destroyers': 1, 'welfare': 2, 'disease': 8, 'appeared': 2, 'obstacle': 1, 'amelioration': 2, 'saying': 2, 'concentrated': 1, 'finding': 1, 'solution': 1, 'meditation': 1, 'realized': 3, 'savior': 1, 'able': 1, 'tell': 2, 'correct': 6, 'abode': 1, 'inquire': 1, 'volunteered': 1, 'deputed': 1, 'work': 4, 'gone': 1, 'saw': 1, 'slayer': 1, 'bala': 1, 'demon': 1, 'sitting': 1, 'midst': 1, 'godly': 1, 'glittering': 1, 'approached': 1, 'felicitating': 1, 'words': 3, 'praises': 1, 'blessings': 1, 'intelligent': 5, 'submitted': 1, 'message': 1, 'humbly': 1, 'possible': 4, 'way': 2, 'causing': 1, 'fear': 1, 'o': 1, 'proper': 6, 'measure': 1, 'sensed': 1, 'wide': 1, 'intelligence': 6, 'sage': 4, 'hetu': 2, 'etiology': 1, 'linga': 2, 'symptomatology': 1, 'aushadha': 2, 'sick': 1, 'tri': 1, 'aphorismic': 1, 'continuing': 1, 'time': 7, 'immemorial': 1, 'virtuous': 3, 'focused': 1, 'acquired': 1, 'endless': 1, 'pronged': 1, 'properly': 3, 'entirely': 2, 'short': 1, 'attained': 2, 'immeasurably': 1, 'blissful': 2, 'transmitted': 1, 'desirous': 1, 'benevolent': 1, 'veda': 3, 'compendium': 3, 'enhancing': 1, 'grasped': 1, 'substances': 13, 'action': 13, 'samvaya': 1, 'inherence': 1, 'followed': 2, 'highest': 1, 'non': 5, 'perishable': 1, 'punarvasu': 2, 'friend': 1, 'humanity': 1, 'benevolence': 1, 'bestowed': 1, 'disciples': 1, 'bhela': 2, 'jatukarna': 1, 'parashara': 1, 'harita': 1, 'ksharapani': 1, 'word': 1, 'instruction': 1, 'extraordinary': 1, 'merit': 1, 'instructions': 1, 'author': 1, 'subsequently': 1, 'authored': 1, 'compendiums': 1, 'ones': 4, 'presented': 1, 'hearing': 1, 'composition': 2, 'branches': 2, 'extremely': 1, 'pleased': 1, 'approved': 1, 'unanimously': 1, 'composed': 4, 'praised': 1, 'benefactors': 1, 'fellow': 1, 'emphatic': 1, 'wise': 3, 'heard': 1, 'deities': 1, 'heaven': 1, 'collective': 1, 'appreciation': 1, 'form': 7, 'unanimous': 1, 'resonated': 1, 'worlds': 2, 'pleasant': 1, 'winds': 1, 'began': 1, 'blow': 1, 'luster': 1, 'divine': 2, 'showers': 1, 'buddhi': 4, 'intellect': 2, 'siddhi': 2, 'success': 4, 'smriti': 3, 'memory': 4, 'medha': 1, 'grasping': 1, 'power': 2, 'learn': 1, 'dhriti': 1, 'kirti': 1, 'fame': 1, 'kshama': 1, 'forbearance': 1, 'daya': 1, 'kindness': 1, 'established': 1, 'strong': 3, 'footing': 1, 'sorrowful': 1, 'wholesome': 5, 'unwholesome': 1, 'conjunction': 5, 'senses': 3, 'soul': 8, 'synonym': 2, 'dhari': 2, 'preserves': 2, 'vitality': 2, 'jivita': 1, 'live': 1, 'nityaga': 2, 'continuum': 2, 'anubandha': 2, 'interdependent': 1, 'link': 2, 'past': 1, 'future': 2, 'vedic': 2, 'scholars': 2, 'regard': 2, 'exalted': 1, 'present': 8, 'principle': 7, 'increase': 3, 'decrease': 3, 'existing': 2, 'elements': 3, 'times': 2, 'effects': 8, 'produced': 2, 'application': 6, 'enables': 1, 'objects': 8, 'distinction': 2, 'proposes': 1, 'opposite': 5, 'tripod': 1, 'existence': 5, 'sustained': 1, 'substratum': 3, 'presently': 1, 'exists': 3, 'conjugation': 5, 'termed': 5, 'purusha': 2, 'holistic': 1, 'chetana': 1, 'sentient': 3, 'adhikarana': 1, 'topic': 1, 'discourse': 1, 'promulgated': 1, 'sake': 1, 'akasha': 4, 'vayu': 7, 'tejas': 2, 'aap': 1, 'prithvi': 5, 'atma': 7, 'manas': 3, 'kala': 1, 'dik': 1, 'orientation': 1, 'space': 1, 'collectively': 1, 'called': 7, 'supplemented': 1, 'sense': 11, 'organs': 5, 'insentient': 1, 'shabda': 1, 'sparsha': 1, 'rupa': 1, 'gandha': 1, 'sound': 3, 'touch': 1, 'sight': 1, 'smell': 2, 'respectively': 3, 'beginning': 2, 'laghu': 2, 'ending': 1, 'prayatna': 1, 'effort': 1, 'para': 1, 'movement': 2, 'initiated': 1, 'attribute': 2, 'samavaya': 5, 'inseparable': 3, 'concomitance': 3, 'relationship': 3, 'eternal': 4, 'devoid': 5, 'element': 1, 'intrinsic': 1, 'cause': 9, 'effect': 5, 'samavayi': 1, 'karana': 3, 'property': 6, 'related': 3, 'inherent': 3, 'asamavayi': 1, 'causative': 1, 'factor': 3, 'disjunction': 3, 'located': 1, 'performance': 1, 'activities': 4, 'intended': 1, 'doer': 1, 'depend': 1, 'produce': 2, 'dhatu': 5, 'samya': 2, 'discussed': 3, 'achievement': 1, 'equilibrium': 4, 'sustaining': 1, 'nourishing': 3, 'factors': 6, 'constituents': 5, 'erroneous': 1, 'avoidance': 1, 'excessive': 1, 'threefold': 2, 'psychic': 2, 'somatic': 2, 'locations': 1, 'pleasures': 1, 'balanced': 1, 'mentioned': 7, 'previous': 2, 'verse': 10, 'free': 2, 'supreme': 2, 'consciousness': 1, 'bhuta': 1, 'observer': 1, 'witness': 1, 'pacified': 3, 'remedial': 1, 'measures': 2, 'rational': 1, 'treated': 3, 'jnana': 1, 'vijnana': 1, 'temperance': 1, 'dhairya': 1, 'salvation': 1, 'concentration': 1, 'samadhi': 1, 'dry': 4, 'cold': 2, 'light': 3, 'subtle': 5, 'mobile': 2, 'slimy': 2, 'rough': 2, 'characteristics': 1, 'creamy': 1, 'oily': 1, 'heavy': 3, 'mildly': 1, 'unctuous': 13, 'hot': 4, 'sharp': 2, 'viscous': 1, 'sour': 5, 'pungent': 6, 'readily': 2, 'food': 8, 'articles': 4, 'dense': 2, 'soft': 2, 'sweet': 9, 'immobile': 1, 'subsided': 1, 'possessing': 3, 'curable': 1, 'administered': 5, 'consideration': 2, 'location': 1, 'dosage': 1, 'incurable': 1, 'advised': 3, 'object': 2, 'gustatory': 1, 'organ': 2, 'tongue': 1, 'manifestation': 3, 'jala': 1, 'variation': 2, 'caused': 1, 'agni': 2, 'salty': 5, 'bitter': 6, 'astringent': 5, 'overcome': 1, 'subdue': 1, 'win': 1, 'drug': 10, 'prabhava': 3, 'pacifiers': 1, 'vitiate': 2, 'taken': 2, 'responsible': 2, 'normal': 3, 'honey': 1, 'milk': 11, 'bile': 1, 'fat': 3, 'bone': 2, 'marrow': 3, 'blood': 1, 'flesh': 1, 'excrements': 1, 'skin': 2, 'semen': 1, 'ligaments': 1, 'horns': 1, 'nails': 1, 'hoof': 1, 'hair': 2, 'fine': 1, 'inspissated': 1, 'obtained': 4, 'animals': 6, 'gold': 1, 'metals': 2, 'silver': 1, 'copper': 2, 'tin': 1, 'lead': 4, 'iron': 2, 'shilajatu': 1, 'bitumen': 2, 'sand': 1, 'lime': 1, 'red': 2, 'yellow': 1, 'arsenic': 1, 'manahshila': 1, 'hartala': 1, 'gems': 1, 'salt': 5, 'ochre': 1, 'antimony': 1, 'direct': 2, 'fruiters': 6, 'creepers': 3, 'flower': 2, 'bear': 1, 'fruit': 1, 'visible': 1, 'flowers': 2, 'vanaspati': 2, 'gymno': 1, 'spermia': 1, 'bearing': 1, 'vanaspatya': 2, 'angio': 1, 'die': 1, 'flowering': 1, 'aushadhi': 2, 'annuals': 1, 'creep': 1, 'twine': 1, 'virudha': 2, 'pith': 1, 'exudation': 1, 'stalk': 1, 'juice': 1, 'sprouts': 1, 'alkalis': 1, 'ash': 1, 'oil': 3, 'thorns': 1, 'leaves': 2, 'buds': 1, 'bulbs': 1, 'shoots': 1, 'school': 4, 'similarly': 5, 'principal': 3, 'mahasneha': 2, 'main': 2, 'medicinal': 6, 'purposes': 3, 'different': 5, 'shodhana': 3, 'knows': 5, 'curing': 4, 'expert': 1, 'hastidanti': 1, 'brihatphala': 1, 'godumba': 1, 'croton': 1, 'oblongifolius': 1, 'haimavati': 2, 'vacha': 3, 'acorus': 2, 'calamus': 2, 'shyama': 1, 'trivrit': 1, 'operculina': 1, 'turpenthum': 1, 'linn': 2, 'adhoguda': 1, 'vriddha': 1, 'daru': 1, 'argyreia': 1, 'speciosa': 1, 'saptala': 1, 'charmakasha': 1, 'euphorbia': 1, 'pilosa': 1, 'shweta': 2, 'aparajita': 1, 'clitoria': 2, 'ternatea': 2, 'pratyakshreni': 1, 'danti': 1, 'baliospermum': 1, 'montanum': 1, 'muell': 1, 'arg': 1, 'gavakshi': 1, 'indravaruni': 1, 'cirrullus': 1, 'colocynthis': 1, 'schrad': 1, 'jyotishmati': 2, 'celastrus': 2, 'panniculatus': 2, 'willd': 2, 'bimbi': 2, 'coccinia': 2, 'indica': 2, 'w': 2, 'shanapushpi': 2, 'crotalaria': 2, 'verrucosa': 2, 'vishanika': 1, 'avartani': 1, 'helicteres': 1, 'isora': 1, 'ajagandha': 1, 'dravanti': 1, 'tiglium': 1, 'kshirini': 1, 'dugdhika': 1, 'thymifolia': 1, 'intra': 1, 'nasal': 2, 'nasya': 3, 'remaining': 2, 'following': 1, 'shankhini': 1, 'vidanga': 1, 'trapusha': 1, 'madanaphala': 1, 'dhamargava': 1, 'ikshvaku': 1, 'jimutam': 1, 'kritavedhana': 1, 'klitakam': 1, 'occurring': 1, 'marshy': 1, 'land': 1, 'anupam': 1, 'sthalaja': 1, 'prakirya': 1, 'udakirya': 1, 'pratyakpushpa': 1, 'abhaya': 1, 'antahkotarapushpi': 1, 'hastiparni': 1, 'sharada': 1, 'kampillaka': 1, 'aragvadhaphala': 1, 'kutaja': 1, 'krutavedhana': 1, 'trapusham': 1, 'hastiparnini': 1, 'asthapana': 1, 'names': 4, 'ghee': 2, 'major': 2, 'preparing': 1, 'potion': 1, 'inunction': 2, 'medicated': 1, 'errhine': 2, 'therapy': 4, 'oiliness': 1, 'complexion': 1, 'strength': 1, 'growth': 3, 'provide': 2, 'relief': 4, 'black': 4, 'sochal': 2, 'sauvarchala': 2, 'rock': 2, 'saindhava': 2, 'ammonium': 1, 'chloride': 1, 'vida': 1, 'efflorescence': 1, 'audbhida': 1, 'sea': 1, 'samudra': 1, 'acute': 3, 'foremost': 1, 'digestive': 3, 'stimulants': 2, 'external': 6, 'applications': 4, 'alepa': 2, 'oleation': 1, 'sudation': 1, 'preparations': 3, 'evacuation': 1, 'enemata': 1, 'surgical': 1, 'operations': 1, 'suppository': 1, 'collyrium': 1, 'friction': 1, 'massage': 2, 'indicated': 4, 'indigestion': 1, 'constipation': 1, 'gulma': 3, 'colic': 1, 'abdominal': 1, 'urines': 4, 'ewe': 2, 'goat': 6, 'cow': 6, 'buffalo': 3, 'elephant': 3, 'camel': 4, 'mare': 3, 'donkey': 2, 'generally': 4, 'frictional': 1, 'evacuator': 1, 'purgatives': 1, 'poultice': 1, 'upanaha': 1, 'affusion': 1, 'parisheka': 1, 'antidote': 1, 'agada': 1, 'afflictions': 1, 'retention': 2, 'feces': 2, 'flatulence': 1, 'anaha': 1, 'generalized': 2, 'enlargement': 3, 'abdomen': 4, 'udara': 3, 'piles': 4, 'dermatosis': 2, 'kushtha': 4, 'leukoderma': 1, 'prescribed': 4, 'antidotes': 1, 'poison': 4, 'vermicides': 1, 'excellent': 2, 'persons': 2, 'suffering': 1, 'pandu': 2, 'anemia': 2, 'intake': 2, 'pacifies': 3, 'regulates': 1, 'peristaltic': 1, 'evacuates': 2, 'morbid': 2, 'lower': 1, 'channels': 1, 'individually': 2, 'slightly': 4, 'antagonistic': 1, 'dispels': 1, 'alleviates': 1, 'discordance': 1, 'cures': 2, 'worms': 2, 'relieves': 2, 'itching': 1, 'edema': 2, 'dermatoses': 2, 'poisoning': 2, 'breathlessness': 1, 'cough': 2, 'wounds': 2, 'epilepsy': 1, 'psychosis': 1, 'severe': 1, 'chronic': 1, 'psychosomatic': 1, 'graha': 1, 'children': 1, 'henceforth': 1, 'milks': 1, 'sheep': 2, 'woman': 1, 'cooling': 1, 'galactagogue': 1, 'pleasing': 1, 'aphrodisiac': 1, 'brain': 3, 'tonic': 1, 'medhya': 1, 'increases': 2, 'strengthening': 1, 'exhilarating': 1, 'vitalizing': 1, 'refreshing': 1, 'curative': 2, 'dyspnea': 1, 'bleeding': 2, 'synthesizer': 1, 'injuries': 1, 'fracture': 1, 'quenches': 1, 'thirst': 1, 'stimulates': 1, 'digestion': 1, 'emaciation': 1, 'lung': 1, 'ulcer': 1, 'acid': 1, 'dyspepsia': 1, 'amlapitta': 1, 'consumption': 1, 'diarrhea': 1, 'fever': 1, 'burning': 1, 'sensation': 3, 'particularly': 2, 'vaginal': 1, 'seminal': 1, 'oliguria': 1, 'hard': 1, 'stools': 1, 'preparation': 2, 'medication': 1, 'tub': 1, 'baths': 1, 'exhaustive': 1, 'uses': 4, 'order': 4, 'entitled': 2, 'annapanavidhi': 1, 'rooter': 1, 'snuhi': 1, 'arka': 1, 'ashmantaka': 1, 'trees': 1, 'putika': 2, 'krishnagandha': 3, 'tilvaka': 2, 'barks': 3, 'indications': 1, 'erysipelas': 1, 'inflammation': 1, 'ringworm': 1, 'abscess': 1, 'nodules': 1, 'gangrene': 1, 'alaji': 1, 'acquire': 2, 'rooters': 2, 'herds': 1, 'shepherds': 1, 'cowherds': 1, 'forest': 2, 'dwellers': 2, 'acquainted': 3, 'forms': 5, 'identification': 3, 'knowing': 2, 'claim': 1, 'perfect': 2, 'pharmacologist': 1, 'need': 1, 'reference': 1, 'country': 1, 'season': 1, 'examining': 1, 'understood': 7, 'perfectly': 1, 'ambrosia': 1, 'weapon': 1, 'bolt': 2, 'thunder': 1, 'spells': 1, 'disaster': 1, 'virulent': 1, 'converted': 1, 'medicine': 6, 'prepared': 2, 'right': 3, 'methods': 4, 'conversely': 1, 'act': 2, 'potent': 2, 'improperly': 1, 'man': 2, 'desires': 2, 'complete': 2, 'stranger': 1, 'medicines': 6, 'survive': 1, 'lightning': 1, 'head': 1, 'escape': 1, 'fatal': 1, 'ignorant': 1, 'vainglorious': 1, 'charlatan': 1, 'person': 6, 'quack': 1, 'administers': 1, 'ailing': 1, 'bed': 1, 'ridden': 1, 'implicit': 1, 'faith': 1, 'totally': 2, 'evades': 1, 'duty': 2, 'sinful': 2, 'wicked': 1, 'death': 6, 'incarnate': 1, 'conversing': 1, 'hell': 1, 'better': 4, 'garb': 1, 'venom': 1, 'cobra': 1, 'melted': 1, 'swallow': 1, 'heated': 1, 'balls': 1, 'extort': 1, 'drink': 1, 'money': 1, 'afflicted': 1, 'sought': 1, 'aid': 1, 'persevere': 1, 'abilities': 1, 'acquiring': 1, 'real': 1, 'giver': 1, 'restores': 1, 'reflected': 1, 'turn': 1, 'reflects': 1, 'endowed': 2, 'tatra': 2, 'l': 2, 'k': 1, 'shlokah': 1, 'capitulatory': 1, 'circumstances': 2, 'advent': 1, 'promulgation': 1, 'approbation': 1, 'aphoristic': 1, 'compilation': 1, 'brief': 4, 'fold': 1, 'thedravya': 1, 'merits': 1, 'demerits': 1, 'wrong': 1, 'denunciation': 1, 'quacks': 1, 'points': 1, 'indicating': 1, 'section': 2, 'compiled': 1, 'revised': 1, 'completed': 1, 'completely': 2, 'effectively': 1, 'gaining': 1, 'symptoms': 1, 'remedies': 1, 'pertaining': 4, 'definitive': 1, 'encyclopedias': 1, 'named': 1, 'kosha': 1, 'tilak': 1, 'maharashtra': 1, 'university': 1, 'pune': 1, 'follows': 1, 'methodology': 1, 'understanding': 5, 'observing': 1, 'clinical': 1, 'features': 1, 'managing': 1, 'abnormal': 2, 'conditions': 4, 'modalities': 1, 'entities': 2, 'diverse': 1, 'criteria': 1, 'enlightened': 1, 'observed': 1, 'maintenance': 1, 'promotion': 2, 'padartha': 1, 'vaisheshika': 3, 'darshana': 2, 'terms': 3, 'desired': 2, 'maintain': 3, 'restore': 1, 'sushruta': 1, 'vaidya': 2, 'executed': 1, 'executing': 1, 'duties': 1, 'requires': 2, 'leads': 1, 'existent': 1, 'imbalances': 1, 'impurities': 1, 'reside': 1, 'needs': 1, 'placing': 1, 'continuation': 1, 'importance': 2, 'ugragandha': 1, 'select': 2, 'instead': 1, 'appear': 1, 'philosophical': 1, 'applies': 1, 'practice': 2, 'truly': 1, 'exist': 2, 'metaphysical': 1, 'personal': 2, 'happiness': 1, 'unhappiness': 1, 'righteous': 1, 'affects': 1, 'surrounding': 1, 'acts': 2, 'impact': 1, 'society': 2, 'karmic': 1, 'details': 2, 'describes': 1, 'beneficial': 4, 'pramana': 1, 'th': 1, 'signs': 1, 'predict': 1, 'born': 1, 'babies': 1, 'dashavidha': 1, 'pareeksha': 1, 'point': 2, 'examination': 1, 'hand': 2, 'indriya': 7, 'helps': 2, 'comes': 5, 'end': 2, 'discusses': 1, 'machine': 1, 'consists': 1, 'mana': 3, 'mechanical': 1, 'functions': 3, 'processes': 3, 'sensations': 2, 'feelings': 1, 'functional': 1, 'units': 1, 'paramanu': 1, 'cell': 1, 'keeping': 2, 'view': 1, 'accepts': 1, 'separate': 1, 'portions': 2, 'predominance': 2, 'accepting': 1, 'significant': 3, 'philosophically': 1, 'practical': 1, 'operates': 1, 'structures': 2, 'adhishthana': 1, 'eyes': 3, 'specially': 2, 'retina': 1, 'optic': 1, 'nerve': 1, 'centre': 2, 'vision': 1, 'invisible': 1, 'diet': 2, 'portion': 1, 'nourishes': 1, 'influence': 1, 'regularize': 1, 'realise': 1, 'degeneration': 1, 'difficult': 1, 'treat': 2, 'imagine': 1, 'acceptance': 1, 'correcting': 1, 'attributed': 1, 'directly': 2, 'acting': 1, 'improve': 1, 'enters': 1, 'union': 1, 'sperm': 1, 'ovum': 1, 'starts': 2, 'vivo': 1, 'fertilization': 1, 'advanced': 1, 'procedures': 1, 'icsi': 1, 'entered': 1, 'till': 1, 'realizes': 1, 'distinct': 1, 'gets': 1, 'synonyms': 1, 'support': 1, 'prevents': 1, 'decay': 1, 'indicates': 3, 'protected': 1, 'threat': 1, 'counteracted': 1, 'protective': 1, 'mechanisms': 1, 'healing': 1, 'soon': 1, 'occurs': 1, 'decomposition': 1, 'jeevitam': 1, 'animation': 1, 'liveliness': 1, 'responsive': 1, 'lost': 1, 'flux': 1, 'keeps': 2, 'undergoing': 1, 'changes': 2, 'moment': 1, 'continued': 1, 'dhanurveda': 1, 'archery': 1, 'war': 1, 'technology': 1, 'upanishada': 1, 'aranyaka': 1, 'providing': 2, 'perform': 1, 'rituals': 1, 'efforts': 1, 'observes': 1, 'white': 1, 'pen': 1, 'involved': 1, 'emitted': 1, 'reaches': 1, 'conducted': 1, 'happens': 2, 'presence': 2, 'know': 4, 'absent': 1, 'minded': 1, 'pay': 1, 'attention': 1, 'analyses': 1, 'takes': 1, 'decision': 1, 'jnanotpatti': 1, 'procedure': 1, 'repeated': 1, 'observe': 2, 'pens': 1, 'referred': 2, 'ekatva': 1, 'samanyam': 1, 'ekatvakaram': 1, 'contained': 1, 'prithaktvakrita': 1, 'essence': 1, 'indian': 2, 'philosophy': 1, 'schools': 1, 'applied': 2, 'continuous': 1, 'results': 1, 'result': 2, 'eating': 1, 'meat': 1, 'content': 1, 'muscle': 2, 'tissue': 1, 'masha': 1, 'gram': 2, 'picchila': 1, 'sthira': 1, 'rest': 1, 'sleep': 1, 'induce': 1, 'exerted': 1, 'pravrittih': 1, 'ubhayasya': 1, 'come': 2, 'respect': 1, 'pepper': 1, 'decreases': 1, 'favorable': 1, 'unfavorable': 1, 'double': 1, 'edged': 1, 'sword': 1, 'appropriate': 1, 'thought': 1, 'translated': 1, 'texts': 1, 'generality': 1, 'specificity': 1, 'sameness': 1, 'antagonism': 1, 'homologous': 1, 'heterologous': 1, 'homology': 1, 'unifies': 1, 'particularity': 1, 'heterology': 1, 'denotes': 1, 'aspect': 2, 'biology': 1, 'preservation': 2, 'universal': 1, 'proved': 1, 'case': 3, 'studies': 2, 'family': 1, 'climate': 1, 'change': 1, 'induced': 1, 'biodiversity': 1, 'depletion': 2, 'poverty': 1, 'reduction': 2, 'access': 1, 'care': 1, 'pandey': 1, 'dn': 1, 'np': 1, 'animate': 1, 'inanimate': 1, 'basis': 2, 'absence': 2, 'vibhu': 1, 'ubiquitous': 1, 'manifested': 1, 'base': 2, 'refer': 1, 'externally': 1, 'ears': 1, 'imperceptible': 1, 'tools': 1, 'exhibit': 1, 'sensory': 1, 'internally': 1, 'ancient': 1, 'indians': 1, 'possess': 3, 'photosensitivity': 1, 'auditory': 1, 'olfactory': 1, 'tactile': 1, 'studied': 1, 'chemical': 1, 'article': 1, 'mass': 1, 'weight': 1, 'augment': 1, 'tissues': 3, 'ruksha': 2, 'desiccates': 1, 'gu': 1, 'evolve': 1, 'destroyed': 1, 'vice': 2, 'versa': 2, 'replaced': 1, 'newer': 1, 'existents': 1, 'actually': 1, 'mutual': 1, 'functionally': 1, 'apa': 2, 'complementary': 1, 'balance': 2, 'classify': 1, 'grossly': 1, 'evolution': 1, 'creations': 1, 'birth': 1, 'development': 1, 'augmentation': 1, 'conglomeration': 1, 'unions': 1, 'required': 2, 'synthesis': 1, 'anabolism': 1, 'impletion': 1, 'nourishment': 2, 'dissociation': 2, 'division': 1, 'catabolism': 1, 'desiccation': 1, 'destruction': 1, 'annihilation': 1, 'dissolution': 1, 'movements': 1, 'kinds': 1, 'visarga': 1, 'producing': 1, 'adana': 1, 'reducing': 1, 'taking': 1, 'away': 1, 'vikshepa': 1, 'moving': 1, 'performed': 1, 'going': 1, 'controlled': 1, 'guided': 1, 'manner': 1, 'soma': 1, 'chandra': 1, 'moon': 1, 'surya': 1, 'sun': 1, 'anila': 1, 'air': 1, 'coordinated': 1, 'systematic': 1, 'govern': 1, 'representatives': 1, 'understands': 1, 'practically': 1, 'average': 1, 'successful': 3, 'depth': 1, 'minute': 1, 'precise': 1, 'quicker': 1, 'tridosha': 1, 'specialized': 1, 'tanmatra': 1, 'purest': 1, 'unconjugated': 1, 'contact': 1, 'formed': 1, 'combination': 1, 'term': 1, 'apparently': 1, 'refers': 1, 'given': 1, 'particular': 3, 'madhura': 2, 'expected': 2, 'goals': 1, 'achieve': 1, 'questions': 1, 'philosophies': 1, 'traditions': 1, 'righteousness': 1, 'rules': 1, 'enjoyments': 1, 'fulfillment': 1, 'enjoyment': 1, 'goal': 1, 'instinctively': 1, 'set': 2, 'anarchy': 1, 'violence': 1, 'essential': 1, 'momentary': 1, 'pleasure': 1, 'sorrow': 1, 'thinks': 1, 'permanent': 1, 'bliss': 1, 'pain': 1, 'emphasized': 1, 'attain': 1, 'veerya': 2, 'vipaka': 2, 'identified': 1, 'arrangements': 1, 'transformations': 1, 'unique': 2, 'unobservable': 1, 'conjugations': 1, 't': 1, 'inexplicable': 1, 'parameters': 1, 'classifications': 1, 'gross': 2, 'prashamana': 1, 'bring': 1, 'amalaki': 1, 'duralabha': 1, 'pacify': 1, 'function': 2, 'amla': 1, 'tikta': 1, 'kashaya': 1, 'sheeta': 1, 'katu': 1, 'explanation': 1, 'true': 1, 'question': 1, 'arises': 1, 'vitiation': 1, 'influencing': 1, 'pradushana': 1, 'harm': 1, 'mandaka': 1, 'dadhi': 1, 'immature': 1, 'curd': 1, 'yogurt': 1, 'slow': 1, 'poisons': 1, 'swasthavritta': 1, 'hitakara': 1, 'rasayana': 1, 'vajikarana': 1, 'daily': 1, 'seasonal': 1, 'regimens': 1, 'belonging': 1, 'rice': 1, 'old': 1, 'wheat': 1, 'barley': 1, 'green': 1, 'promote': 1, 'category': 1, 'increased': 1, 'aggravated': 1, 'decreased': 1, 'functioning': 1, 'commonly': 1, 'mainly': 1, 'trend': 1, 'mixed': 2, 'herbal': 2, 'bhavana': 1, 'fortification': 1, 'combat': 1, 'ama': 1, 'rheumatoid': 1, 'arthritis': 1, 'classical': 1, 'advise': 1, 'rarely': 1, 'shells': 1, 'aquatic': 1, 'samalah': 1, 'byproducts': 1, 'minerals': 1, 'alkaline': 1, 'included': 2, 'subjected': 1, 'converting': 1, 'nano': 1, 'particles': 1, 'bhasma': 1, 'separately': 1, 'product': 1, 'anaerobic': 1, 'incinerating': 1, 'convert': 1, 'metal': 1, 'decoctions': 2, 'reduces': 1, 'bulk': 1, 'doses': 1, 'substance': 1, 'possesses': 1, 'quality': 1, 'absorbing': 1, 'processed': 1, 'losing': 1, 'media': 1, 'processing': 1, 'edible': 1, 'taila': 1, 'vasa': 1, 'majja': 1, 'snehana': 1, 'unction': 1, 'listed': 1, 'palatable': 1, 'priority': 1, 'female': 1, 'species': 1, 'cha': 3, 'sa': 3, 'commentators': 1, 'ascribe': 1, 'heaviness': 1, 'males': 1, 'shukra': 1, 'lightness': 1, 'acceptable': 1, 'females': 1, 'nutshell': 1, 'serves': 1, 'efficacious': 1, 'male': 1, 'impotent': 1, 'inauspicious': 1, 'sweetness': 1, 'unctuousness': 1, 'coolness': 1, 'differ': 1, 'instance': 1, 'saline': 1, 'differs': 1, 'faculties': 1, 'includes': 1, 'states': 1, 'raktapitta': 1, 'stimulation': 1, 'cured': 2, 'boiled': 1, 'volume': 1, 'water': 1, 'chikitsa': 1, 'adhoga': 1, 'urdhvaga': 1, 'laxative': 1, 'vitiating': 1, 'stage': 1, 'elimination': 1, 'owing': 1, 'paste': 1, 'herder': 1, 'versed': 1, 'beginner': 1, 'available': 1, 'areas': 1, 'mere': 1, 'sufficient': 1, 'pharmacological': 2, 'underlying': 2, 'acquaint': 1, 'unknown': 1, 'kill': 1, 'successfully': 1, 'pseudo': 2, 'prescribe': 1, 'knowledgeable': 1, 'pillars': 1, 'requisite': 2, 'cure': 1, 'randomly': 1, 'succeeds': 1, 'alleviating': 1, 'credit': 1, 'accidental': 1, 'proficiency': 1, 'governing': 1, 'capability': 1, 'kaarya': 2, 'vada': 1, 'says': 1, 'kaarana': 2, 'proficient': 1, 'envisaged': 1, 'khuddaka': 1, 'chatushpada': 1, 'siddhanta': 1, 'disha': 1, 'abhava': 1, 'aatma': 1, 'send': 1, 'suggestions': 1, 'feedback': 1, 'page': 1}\n"
          ]
        }
      ]
    },
    {
      "cell_type": "code",
      "source": [
        "para_with_index[0]"
      ],
      "metadata": {
        "id": "S2i860ItDDdX"
      },
      "id": "S2i860ItDDdX",
      "execution_count": null,
      "outputs": []
    },
    {
      "cell_type": "code",
      "source": [
        "tf_idf = {}\n",
        "N = len(para_with_index)\n",
        "for doc_id, tokens in para_with_index.items():\n",
        "  counter = Counter(tokens)\n",
        "  word_counts = len(tokens)\n",
        "\n",
        "  for token in np.unique(tokens):\n",
        "    tf = counter[token]\n",
        "    tf = 1 + np.log(tf)\n",
        "    if token in DF:\n",
        "      df = DF[token]\n",
        "    else:\n",
        "      df = 0\n",
        "    idf = np.log((N+1)/(df+1))\n",
        "\n",
        "    tf_idf[doc_id, token] = tf*idf\n"
      ],
      "metadata": {
        "id": "bQOQzUJmpzuv"
      },
      "id": "bQOQzUJmpzuv",
      "execution_count": null,
      "outputs": []
    },
    {
      "cell_type": "markdown",
      "source": [
        "### Ranked Search"
      ],
      "metadata": {
        "id": "Ku2iOf9WGB51"
      },
      "id": "Ku2iOf9WGB51"
    },
    {
      "cell_type": "code",
      "source": [
        "def ranked_search(k, tf_idf, query):\n",
        "  tokens = tokenize_text(query)\n",
        "  query_weights = {}\n",
        "  for doc_id, token in tf_idf:\n",
        "    if token in tokens:\n",
        "      query_weights[doc_id] = query_weights.get(doc_id, 0) + tf_idf[doc_id, token]\n",
        "  query_weights = sorted(query_weights.items(), key=lambda x: x[1], reverse=True)\n",
        "  results = []\n",
        "  for i in query_weights[:k]:\n",
        "    results.append(i[0])\n",
        "  return results"
      ],
      "metadata": {
        "id": "UX0x0a1cFL8Z"
      },
      "id": "UX0x0a1cFL8Z",
      "execution_count": null,
      "outputs": []
    },
    {
      "cell_type": "code",
      "source": [
        "results = ranked_search(4, tf_idf, 'suffering from worms')"
      ],
      "metadata": {
        "colab": {
          "base_uri": "https://localhost:8080/"
        },
        "id": "Jco91xvTHjGx",
        "outputId": "ca14c624-a149-42b1-a1c8-6aa97c0eb954"
      },
      "id": "Jco91xvTHjGx",
      "execution_count": null,
      "outputs": [
        {
          "output_type": "stream",
          "name": "stdout",
          "text": [
            "suffering worms\n"
          ]
        }
      ]
    },
    {
      "cell_type": "code",
      "source": [
        "[filtered2[i] for i in results]"
      ],
      "metadata": {
        "colab": {
          "base_uri": "https://localhost:8080/"
        },
        "id": "Cv2ecV9FH5z6",
        "outputId": "87e2e8e6-0293-4167-b40a-01a8d308f56c"
      },
      "id": "Cv2ecV9FH5z6",
      "execution_count": null,
      "outputs": [
        {
          "output_type": "execute_result",
          "data": {
            "text/plain": [
              "['Urines have been prescribed as digestive stimulants, antidotes to poison and as vermicides. They are excellent for the treatment of persons suffering from pandu (anemia). [97.5]\\n',\n",
              " 'The urine of cow is slightly sweet, alleviates discordance of dosha. It cures worms, skin diseases (kushtha) and relieves itching. Its proper intake cures disorders of abdomen. [101]\\n',\n",
              " 'The urine of buffalo provides relief in piles, edema and disorders leading to general enlargement of abdomen (udara).  The urine of she-elephant is salty and provides relief in worms and dermatoses (kushtha).  It is also useful in the treatment of retention of feces and urine, poisoning, kapha disorders and piles. [102.5]\\n']"
            ]
          },
          "metadata": {},
          "execution_count": 333
        }
      ]
    },
    {
      "cell_type": "markdown",
      "source": [
        "## Euclidian Distance"
      ],
      "metadata": {
        "id": "5IhQIGWYuc16"
      },
      "id": "5IhQIGWYuc16"
    },
    {
      "cell_type": "code",
      "source": [],
      "metadata": {
        "id": "wXyQNzGivGFo"
      },
      "id": "wXyQNzGivGFo",
      "execution_count": null,
      "outputs": []
    },
    {
      "cell_type": "code",
      "source": [
        "# def Euclidian(question_vector, sentence_vector):\n",
        "#   vec1 = question_vector.copy()\n",
        "#   vec2 = sentence_vector.copy()\n",
        "#   if len(vec1)<len(vec2): vec1,vec2 = vec2, vec1\n",
        "#   vec2 = np.resize(vec2, (vec1.shape[0], vec1.shape[1]))\n",
        "#   return np.linalg.norm(vec1-vec2)"
      ],
      "metadata": {
        "id": "YYCmy5ZztExY"
      },
      "id": "YYCmy5ZztExY",
      "execution_count": 334,
      "outputs": []
    },
    {
      "cell_type": "code",
      "source": [],
      "metadata": {
        "id": "v_8rpOjDvLX9"
      },
      "id": "v_8rpOjDvLX9",
      "execution_count": null,
      "outputs": []
    },
    {
      "cell_type": "code",
      "source": [],
      "metadata": {
        "id": "EncsyHU6vj7X"
      },
      "id": "EncsyHU6vj7X",
      "execution_count": null,
      "outputs": []
    }
  ],
  "metadata": {
    "kernelspec": {
      "display_name": "Python 3 (ipykernel)",
      "language": "python",
      "name": "python3"
    },
    "language_info": {
      "codemirror_mode": {
        "name": "ipython",
        "version": 3
      },
      "file_extension": ".py",
      "mimetype": "text/x-python",
      "name": "python",
      "nbconvert_exporter": "python",
      "pygments_lexer": "ipython3",
      "version": "3.11.0rc1"
    },
    "colab": {
      "provenance": []
    }
  },
  "nbformat": 4,
  "nbformat_minor": 5
}