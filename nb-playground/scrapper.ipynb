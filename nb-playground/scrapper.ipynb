{
 "cells": [
  {
   "cell_type": "markdown",
   "id": "kIR53E9ouTgH",
   "metadata": {
    "id": "kIR53E9ouTgH"
   },
   "source": [
    "# Information Retrival - Testing on subset"
   ]
  },
  {
   "cell_type": "code",
   "execution_count": 1,
   "id": "O1zmTbEyvHSq",
   "metadata": {
    "id": "O1zmTbEyvHSq"
   },
   "outputs": [],
   "source": [
    "import numpy as np\n",
    "import pandas as pd"
   ]
  },
  {
   "cell_type": "code",
   "execution_count": null,
   "id": "ppzPkgQOAaiR",
   "metadata": {
    "id": "ppzPkgQOAaiR"
   },
   "outputs": [],
   "source": []
  },
  {
   "cell_type": "code",
   "execution_count": 2,
   "id": "t95Iy_1Xkz1E",
   "metadata": {
    "colab": {
     "base_uri": "https://localhost:8080/"
    },
    "id": "t95Iy_1Xkz1E",
    "outputId": "6856d7f6-7e90-4485-e4f7-2f4afde9624c"
   },
   "outputs": [
    {
     "name": "stdout",
     "output_type": "stream",
     "text": [
      "Defaulting to user installation because normal site-packages is not writeable\n",
      "Requirement already satisfied: gensim in /home/rohan/.local/lib/python3.11/site-packages (4.3.2)\n",
      "Requirement already satisfied: numpy>=1.18.5 in /home/rohan/.local/lib/python3.11/site-packages (from gensim) (1.26.1)\n",
      "Requirement already satisfied: scipy>=1.7.0 in /home/rohan/.local/lib/python3.11/site-packages (from gensim) (1.11.3)\n",
      "Requirement already satisfied: smart-open>=1.8.1 in /home/rohan/.local/lib/python3.11/site-packages (from gensim) (6.4.0)\n"
     ]
    }
   ],
   "source": [
    "!pip install gensim"
   ]
  },
  {
   "cell_type": "code",
   "execution_count": 3,
   "id": "79e86ef9-e073-44ad-868f-8ac18e86cd2a",
   "metadata": {
    "id": "79e86ef9-e073-44ad-868f-8ac18e86cd2a"
   },
   "outputs": [],
   "source": [
    "from bs4 import BeautifulSoup\n",
    "from urllib.request import urlopen\n",
    "import re"
   ]
  },
  {
   "cell_type": "markdown",
   "id": "3U9zguF2NKXD",
   "metadata": {
    "id": "3U9zguF2NKXD"
   },
   "source": [
    "## One Page scrapping"
   ]
  },
  {
   "cell_type": "code",
   "execution_count": 4,
   "id": "28d5d802-3711-4ade-90ef-a2bc22c4770c",
   "metadata": {
    "id": "28d5d802-3711-4ade-90ef-a2bc22c4770c"
   },
   "outputs": [],
   "source": [
    "url = 'https://www.carakasamhitaonline.com/index.php?title=Deerghanjiviteeya_Adhyaya'"
   ]
  },
  {
   "cell_type": "code",
   "execution_count": 5,
   "id": "c3f8c66b-7295-4124-9b4c-6c94ac21326d",
   "metadata": {
    "id": "c3f8c66b-7295-4124-9b4c-6c94ac21326d"
   },
   "outputs": [],
   "source": [
    "page = urlopen(url)"
   ]
  },
  {
   "cell_type": "code",
   "execution_count": 6,
   "id": "9e62c50f-2329-4257-9702-81583e43e698",
   "metadata": {
    "id": "9e62c50f-2329-4257-9702-81583e43e698"
   },
   "outputs": [],
   "source": [
    "content = page.read()"
   ]
  },
  {
   "cell_type": "code",
   "execution_count": 7,
   "id": "04fc008f-26d6-4b9e-87ee-1c18f99db9cc",
   "metadata": {
    "colab": {
     "base_uri": "https://localhost:8080/"
    },
    "id": "04fc008f-26d6-4b9e-87ee-1c18f99db9cc",
    "outputId": "8389959f-6856-4021-d348-ffb65be953e2"
   },
   "outputs": [
    {
     "data": {
      "text/plain": [
       "(95, 127)"
      ]
     },
     "execution_count": 7,
     "metadata": {},
     "output_type": "execute_result"
    }
   ],
   "source": [
    "html = content.decode('utf-8')\n",
    "html.find('<title>'), html.find('</title')"
   ]
  },
  {
   "cell_type": "code",
   "execution_count": 8,
   "id": "b41b0f9d-2778-4a82-8556-8c0ac70fcf70",
   "metadata": {
    "colab": {
     "base_uri": "https://localhost:8080/",
     "height": 36
    },
    "id": "b41b0f9d-2778-4a82-8556-8c0ac70fcf70",
    "outputId": "6382350a-3058-4eb9-aea4-4f43ba06bc13"
   },
   "outputs": [
    {
     "data": {
      "text/plain": [
       "'Deerghanjiviteeya'"
      ]
     },
     "execution_count": 8,
     "metadata": {},
     "output_type": "execute_result"
    }
   ],
   "source": [
    "html[95+7:119]"
   ]
  },
  {
   "cell_type": "code",
   "execution_count": 9,
   "id": "54eb9272-635e-41fa-b4f2-80db08002b8d",
   "metadata": {
    "colab": {
     "base_uri": "https://localhost:8080/"
    },
    "id": "54eb9272-635e-41fa-b4f2-80db08002b8d",
    "outputId": "bce82007-b7bf-48e2-836b-e9cb9247f03a"
   },
   "outputs": [
    {
     "data": {
      "text/plain": [
       "1003"
      ]
     },
     "execution_count": 9,
     "metadata": {},
     "output_type": "execute_result"
    }
   ],
   "source": [
    "len(re.findall('<p>', html))"
   ]
  },
  {
   "cell_type": "markdown",
   "id": "2e8fc760-5555-4bd3-9ae4-d86bcd84dfdd",
   "metadata": {
    "id": "2e8fc760-5555-4bd3-9ae4-d86bcd84dfdd"
   },
   "source": [
    "### Beautiful Soup"
   ]
  },
  {
   "cell_type": "code",
   "execution_count": 10,
   "id": "d2ce2215-87db-4df1-895d-2c25f0e9c499",
   "metadata": {
    "id": "d2ce2215-87db-4df1-895d-2c25f0e9c499"
   },
   "outputs": [],
   "source": [
    "soup = BeautifulSoup(html, 'html.parser')"
   ]
  },
  {
   "cell_type": "code",
   "execution_count": 11,
   "id": "9ae708f9-b84b-49a2-86e7-3c35ad0b702e",
   "metadata": {
    "colab": {
     "base_uri": "https://localhost:8080/",
     "height": 36
    },
    "id": "9ae708f9-b84b-49a2-86e7-3c35ad0b702e",
    "outputId": "a8038b1f-ad0c-4b47-819e-26d3943e3d3b"
   },
   "outputs": [
    {
     "data": {
      "text/plain": [
       "'Deerghanjiviteeya Adhyaya'"
      ]
     },
     "execution_count": 11,
     "metadata": {},
     "output_type": "execute_result"
    }
   ],
   "source": [
    "# print(soup.get_text())\n",
    "soup.title.string"
   ]
  },
  {
   "cell_type": "code",
   "execution_count": null,
   "id": "eb6a4ada-6080-4ef7-a16d-3e9a10eac6e9",
   "metadata": {},
   "outputs": [],
   "source": []
  },
  {
   "cell_type": "code",
   "execution_count": 12,
   "id": "b621cf9c-6d4a-47b8-8961-11d1d3ba5d27",
   "metadata": {
    "id": "b621cf9c-6d4a-47b8-8961-11d1d3ba5d27"
   },
   "outputs": [],
   "source": [
    "texts = [x.text for x in soup.find_all('p')]"
   ]
  },
  {
   "cell_type": "code",
   "execution_count": null,
   "id": "8bc979a0-7dfd-443b-b7c8-8ba63a1409c5",
   "metadata": {},
   "outputs": [],
   "source": [
    "def load_text_from_url(url):\n",
    "    \"\"\"Loads the texts and apply some preprocessing over html\n",
    "    to extract the paragraphs from the page\n",
    "    \"\"\"\n",
    "    # load html\n",
    "    page = urlopen(url)\n",
    "    content = page.read()\n",
    "    html = content.decode('utf-8')\n",
    "    \n",
    "    # create beautiful parser\n",
    "    soup = BeautifulSoup(html, 'html.parser')\n",
    "    \n",
    "    # extract paragraphs onli\n",
    "    texts = [x.text for x in soup.find_all('p')]\n",
    "    "
   ]
  },
  {
   "cell_type": "markdown",
   "id": "c29e6a28-f38c-4a7b-bb3d-f75982ba8bac",
   "metadata": {
    "id": "c29e6a28-f38c-4a7b-bb3d-f75982ba8bac"
   },
   "source": [
    "# **Cleaning**"
   ]
  },
  {
   "cell_type": "markdown",
   "id": "AHi-v2vVjqep",
   "metadata": {
    "id": "AHi-v2vVjqep"
   },
   "source": [
    "#### Removing sanskrit"
   ]
  },
  {
   "cell_type": "code",
   "execution_count": 13,
   "id": "d6625587-c3b1-44cb-82ce-fb22e7694404",
   "metadata": {
    "id": "d6625587-c3b1-44cb-82ce-fb22e7694404"
   },
   "outputs": [],
   "source": [
    "def is_sanskrit(text):\n",
    "    # Define the Unicode range for Sanskrit characters\n",
    "    sanskrit_range = re.compile(\"[\\u0900-\\u097F]+\", re.UNICODE)\n",
    "\n",
    "    # Check if the text contains Sanskrit characters\n",
    "    return bool(sanskrit_range.search(text))"
   ]
  },
  {
   "cell_type": "code",
   "execution_count": 14,
   "id": "f6c0f526-111c-4289-bdb6-5ceda076b53d",
   "metadata": {
    "id": "f6c0f526-111c-4289-bdb6-5ceda076b53d"
   },
   "outputs": [],
   "source": [
    "\n",
    "def remove_sanskrit_elements(input_list):\n",
    "    # Use list comprehension to filter out Sanskrit elements\n",
    "    filtered_list = [element for element in input_list if not is_sanskrit(element)]\n",
    "\n",
    "    return filtered_list"
   ]
  },
  {
   "cell_type": "code",
   "execution_count": 15,
   "id": "19db2cfd-707b-404b-847e-4b5e24490156",
   "metadata": {
    "id": "19db2cfd-707b-404b-847e-4b5e24490156"
   },
   "outputs": [],
   "source": [
    "filtered = remove_sanskrit_elements(texts)"
   ]
  },
  {
   "cell_type": "code",
   "execution_count": null,
   "id": "eeb5ec95-28a3-419c-b7c2-da3e76d543bd",
   "metadata": {
    "id": "eeb5ec95-28a3-419c-b7c2-da3e76d543bd"
   },
   "outputs": [],
   "source": []
  },
  {
   "cell_type": "code",
   "execution_count": 16,
   "id": "b6622146-c3f0-4ccd-af9b-e2231cccb0cc",
   "metadata": {
    "id": "b6622146-c3f0-4ccd-af9b-e2231cccb0cc"
   },
   "outputs": [],
   "source": [
    "def has_pattern(text, pattern):\n",
    "    # Use re.search to check if the pattern is present in the text\n",
    "    return bool(re.search(pattern, text))\n",
    "\n",
    "def remove_strings_with_pattern(input_list, pattern):\n",
    "    # Use list comprehension to filter out strings with the specified pattern\n",
    "    filtered_list = [element for element in input_list if not has_pattern(element, pattern)]\n",
    "\n",
    "    return filtered_list"
   ]
  },
  {
   "cell_type": "code",
   "execution_count": 17,
   "id": "65393104-cd69-422d-b33e-22ac29601d16",
   "metadata": {
    "id": "65393104-cd69-422d-b33e-22ac29601d16"
   },
   "outputs": [],
   "source": [
    "filtered2 = remove_strings_with_pattern(filtered, r\"\\|\")"
   ]
  },
  {
   "cell_type": "code",
   "execution_count": null,
   "id": "b6f39bb2-3f87-41a3-b0e5-4ba33ac27600",
   "metadata": {
    "id": "b6f39bb2-3f87-41a3-b0e5-4ba33ac27600"
   },
   "outputs": [],
   "source": []
  },
  {
   "cell_type": "markdown",
   "id": "XkgJ0REjjuni",
   "metadata": {
    "id": "XkgJ0REjjuni"
   },
   "source": [
    "#### Removing spaces, stopwords"
   ]
  },
  {
   "cell_type": "code",
   "execution_count": 18,
   "id": "co7LSA4Lknd2",
   "metadata": {
    "id": "co7LSA4Lknd2"
   },
   "outputs": [],
   "source": [
    "import gensim\n",
    "from gensim.parsing.preprocessing import remove_stopwords\n"
   ]
  },
  {
   "cell_type": "code",
   "execution_count": 19,
   "id": "fJ_uWfz0jy7_",
   "metadata": {
    "colab": {
     "base_uri": "https://localhost:8080/",
     "height": 72
    },
    "id": "fJ_uWfz0jy7_",
    "outputId": "10eea14a-bced-4dc8-851f-71aa6abce3c0"
   },
   "outputs": [
    {
     "data": {
      "text/plain": [
       "'urine buffalo provides relief piles edema disorders leading general enlargement abdomen udara urine elephant salty provides relief worms dermatoses kushtha useful treatment retention feces urine poisoning kapha disorders piles'"
      ]
     },
     "execution_count": 19,
     "metadata": {},
     "output_type": "execute_result"
    }
   ],
   "source": [
    "def clean_sentence(sentence, stopwords=False):\n",
    "  sentence = sentence.lower().strip()\n",
    "  sentence = re.sub(r'[^a-z]', ' ', sentence)\n",
    "  if stopwords:\n",
    "    sentence = remove_stopwords(sentence)\n",
    "  return sentence\n",
    "clean_sentence(filtered2[74], stopwords=True)"
   ]
  },
  {
   "cell_type": "code",
   "execution_count": 20,
   "id": "ZMYNo1xgmB4i",
   "metadata": {
    "id": "ZMYNo1xgmB4i"
   },
   "outputs": [],
   "source": [
    "filtered3 = [clean_sentence(para, True) for para in filtered2]"
   ]
  },
  {
   "cell_type": "code",
   "execution_count": 21,
   "id": "QobbxBa0macB",
   "metadata": {
    "colab": {
     "base_uri": "https://localhost:8080/"
    },
    "id": "QobbxBa0macB",
    "outputId": "2a5d420a-bd4b-47a8-b3ff-80b439d194f2"
   },
   "outputs": [
    {
     "data": {
      "text/plain": [
       "(1004, 717, 149, 149)"
      ]
     },
     "execution_count": 21,
     "metadata": {},
     "output_type": "execute_result"
    }
   ],
   "source": [
    "len(texts),len(filtered), len(filtered2), len(filtered3)"
   ]
  },
  {
   "cell_type": "code",
   "execution_count": 22,
   "id": "M--E8RXiGaT_",
   "metadata": {
    "id": "M--E8RXiGaT_"
   },
   "outputs": [],
   "source": [
    "def tokenize_text(text):\n",
    "  \"\"\"Make all necessary preprocessing of text: cleaning text and tokenizing it\"\"\"\n",
    "\n",
    "\n",
    "  cleaned = clean_sentence(text, True)\n",
    "  return [word for word in cleaned.split()]"
   ]
  },
  {
   "cell_type": "code",
   "execution_count": null,
   "id": "dTVdNlKrMEMs",
   "metadata": {
    "id": "dTVdNlKrMEMs"
   },
   "outputs": [],
   "source": []
  },
  {
   "cell_type": "markdown",
   "id": "84d438ad-4d29-4278-9001-7ac9adc3cc03",
   "metadata": {
    "id": "84d438ad-4d29-4278-9001-7ac9adc3cc03"
   },
   "source": [
    "## Inverted Index"
   ]
  },
  {
   "cell_type": "code",
   "execution_count": 23,
   "id": "e9PcX9WidJK4",
   "metadata": {
    "id": "e9PcX9WidJK4"
   },
   "outputs": [],
   "source": [
    "def inverted_index(words):\n",
    "  \"\"\"\n",
    "  create inverted index of words from list of terms\n",
    "  \"\"\"\n",
    "  inverted = {}\n",
    "  for index, word in enumerate(words):\n",
    "    location = inverted.setdefault(word, [])\n",
    "    location.append(index)\n",
    "  return inverted\n",
    "\n",
    "def inverted_index_add(inverted, doc_id, doc_index):\n",
    "  for word in doc_index.keys():\n",
    "    locations = doc_index[word]\n",
    "    indices = inverted.setdefault(word, {})\n",
    "    indices[doc_id] = locations\n",
    "  return inverted"
   ]
  },
  {
   "cell_type": "code",
   "execution_count": 24,
   "id": "qrYfvJLshe44",
   "metadata": {
    "id": "qrYfvJLshe44"
   },
   "outputs": [],
   "source": [
    "inverted_doc_indexes = {}\n",
    "para_with_index={}\n",
    "doc_id = 0\n",
    "for index, para in enumerate(filtered3):\n",
    "  words = para.split()\n",
    "  para_with_index[index] = words\n",
    "\n",
    "  doc_index = inverted_index(words)\n",
    "\n",
    "  inverted_index_add(inverted_doc_indexes, doc_id, doc_index)\n",
    "  doc_id += 1"
   ]
  },
  {
   "cell_type": "code",
   "execution_count": 25,
   "id": "5JPAoC5ZhoNs",
   "metadata": {
    "colab": {
     "base_uri": "https://localhost:8080/"
    },
    "id": "5JPAoC5ZhoNs",
    "outputId": "cb5516df-f20f-4161-9b95-d69ae37a1ee2"
   },
   "outputs": [
    {
     "data": {
      "text/plain": [
       "{68: [24], 74: [4, 28], 75: [8], 85: [10]}"
      ]
     },
     "execution_count": 25,
     "metadata": {},
     "output_type": "execute_result"
    }
   ],
   "source": [
    "inverted_doc_indexes['piles']"
   ]
  },
  {
   "cell_type": "code",
   "execution_count": 26,
   "id": "h6jw4s1ywwIJ",
   "metadata": {
    "colab": {
     "base_uri": "https://localhost:8080/",
     "height": 36
    },
    "id": "h6jw4s1ywwIJ",
    "outputId": "e44d8552-fe42-4c73-8ded-755da9b2bc03"
   },
   "outputs": [
    {
     "data": {
      "text/plain": [
       "'cold'"
      ]
     },
     "execution_count": 26,
     "metadata": {},
     "output_type": "execute_result"
    }
   ],
   "source": [
    "para_with_index[41][2]"
   ]
  },
  {
   "cell_type": "code",
   "execution_count": 27,
   "id": "SXZf0sCnwv6C",
   "metadata": {
    "colab": {
     "base_uri": "https://localhost:8080/",
     "height": 109
    },
    "id": "SXZf0sCnwv6C",
    "outputId": "7c79e2a7-1794-4b01-cfdb-6b3ad787df12"
   },
   "outputs": [
    {
     "data": {
      "text/plain": [
       "'The barks of Putika and Tilvaka are used for purgation therapy. Indications of bark of Krishnagandha are erysipelas, inflammation, piles, ringworm, abscess, nodules, dermatosis and gangrene (alaji). The wise physician should also acquire the knowledge of the above mentioned six plants (three with latex and three with bark) of their pacification actions. [117-118]\\n'"
      ]
     },
     "execution_count": 27,
     "metadata": {},
     "output_type": "execute_result"
    }
   ],
   "source": [
    "filtered2[85]"
   ]
  },
  {
   "cell_type": "code",
   "execution_count": null,
   "id": "vaCBuEUAwv3a",
   "metadata": {
    "id": "vaCBuEUAwv3a"
   },
   "outputs": [],
   "source": []
  },
  {
   "cell_type": "markdown",
   "id": "LSH9bLS7pNpY",
   "metadata": {
    "id": "LSH9bLS7pNpY"
   },
   "source": [
    "### Bag of Words"
   ]
  },
  {
   "cell_type": "code",
   "execution_count": 28,
   "id": "NWRSenN8pnPY",
   "metadata": {
    "id": "NWRSenN8pnPY"
   },
   "outputs": [],
   "source": [
    "from gensim import corpora"
   ]
  },
  {
   "cell_type": "code",
   "execution_count": 29,
   "id": "4WIU-lDgnHxM",
   "metadata": {
    "id": "4WIU-lDgnHxM"
   },
   "outputs": [],
   "source": [
    "sentences = filtered3\n",
    "sentence_words = [[word for word in document.split()] for document in sentences]\n",
    "dictionary = corpora.Dictionary(sentence_words)\n",
    "corpus = [dictionary.doc2bow(text) for text in sentence_words]\n",
    "# for sent, embedding in zip(sentences, corpus):\n",
    "#   print(sent)\n",
    "#   print(embedding)\n"
   ]
  },
  {
   "cell_type": "code",
   "execution_count": null,
   "id": "fHyQxvybwAMH",
   "metadata": {
    "id": "fHyQxvybwAMH"
   },
   "outputs": [],
   "source": [
    "\n"
   ]
  },
  {
   "cell_type": "code",
   "execution_count": null,
   "id": "zlRienUtwADT",
   "metadata": {
    "id": "zlRienUtwADT"
   },
   "outputs": [],
   "source": []
  },
  {
   "cell_type": "markdown",
   "id": "xAdv_B_Isbi_",
   "metadata": {
    "id": "xAdv_B_Isbi_"
   },
   "source": [
    "### TF-IDF"
   ]
  },
  {
   "cell_type": "code",
   "execution_count": 30,
   "id": "K9wQF_VRpx11",
   "metadata": {
    "id": "K9wQF_VRpx11"
   },
   "outputs": [],
   "source": [
    "# from sklearn.feature_extraction.text import TfidfVectorizer\n",
    "# tfidfvectoriser = TfidfVectorizer()\n",
    "# tfidfvectoriser.fit(filtered3)\n",
    "# tfidf_vectors = tfidfvectoriser.transform(filtered3)\n",
    "# print(tfidf_vectors)"
   ]
  },
  {
   "cell_type": "code",
   "execution_count": 31,
   "id": "H9JhO3oNCCEJ",
   "metadata": {
    "id": "H9JhO3oNCCEJ"
   },
   "outputs": [],
   "source": [
    "from collections import Counter"
   ]
  },
  {
   "cell_type": "code",
   "execution_count": 32,
   "id": "GLwV8oCbCGGH",
   "metadata": {
    "colab": {
     "base_uri": "https://localhost:8080/"
    },
    "id": "GLwV8oCbCGGH",
    "outputId": "ea9fa928-062a-45cb-993f-f86bf680024a"
   },
   "outputs": [
    {
     "name": "stdout",
     "output_type": "stream",
     "text": [
      "\n"
     ]
    }
   ],
   "source": [
    "DF = {}\n",
    "for word in inverted_doc_indexes.keys():\n",
    "  DF[word] = len([doc for doc in inverted_doc_indexes[word]])\n",
    "\n",
    "total_vocab_size = len(DF)\n",
    "print()"
   ]
  },
  {
   "cell_type": "code",
   "execution_count": 33,
   "id": "S2i860ItDDdX",
   "metadata": {
    "id": "S2i860ItDDdX"
   },
   "outputs": [
    {
     "data": {
      "text/plain": [
       "['sutra', 'sthana', 'chapter', 'longevity']"
      ]
     },
     "execution_count": 33,
     "metadata": {},
     "output_type": "execute_result"
    }
   ],
   "source": [
    "para_with_index[0]"
   ]
  },
  {
   "cell_type": "code",
   "execution_count": 34,
   "id": "bQOQzUJmpzuv",
   "metadata": {
    "id": "bQOQzUJmpzuv"
   },
   "outputs": [],
   "source": [
    "tf_idf = {}\n",
    "N = len(para_with_index)\n",
    "for doc_id, tokens in para_with_index.items():\n",
    "  counter = Counter(tokens)\n",
    "  word_counts = len(tokens)\n",
    "\n",
    "  for token in np.unique(tokens):\n",
    "    tf = counter[token]\n",
    "    tf = 1 + np.log(tf)\n",
    "    if token in DF:\n",
    "      df = DF[token]\n",
    "    else:\n",
    "      df = 0\n",
    "    idf = np.log((N+1)/(df+1))\n",
    "\n",
    "    tf_idf[doc_id, token] = tf*idf\n"
   ]
  },
  {
   "cell_type": "markdown",
   "id": "Ku2iOf9WGB51",
   "metadata": {
    "id": "Ku2iOf9WGB51"
   },
   "source": [
    "### Ranked Search"
   ]
  },
  {
   "cell_type": "code",
   "execution_count": 35,
   "id": "UX0x0a1cFL8Z",
   "metadata": {
    "id": "UX0x0a1cFL8Z"
   },
   "outputs": [],
   "source": [
    "def ranked_search(k, tf_idf, query):\n",
    "  tokens = tokenize_text(query)\n",
    "  query_weights = {}\n",
    "  for doc_id, token in tf_idf:\n",
    "    if token in tokens:\n",
    "      query_weights[doc_id] = query_weights.get(doc_id, 0) + tf_idf[doc_id, token]\n",
    "  query_weights = sorted(query_weights.items(), key=lambda x: x[1], reverse=True)\n",
    "  results = []\n",
    "  for i in query_weights[:k]:\n",
    "    results.append(i[0])\n",
    "  return results"
   ]
  },
  {
   "cell_type": "code",
   "execution_count": 36,
   "id": "Jco91xvTHjGx",
   "metadata": {
    "colab": {
     "base_uri": "https://localhost:8080/"
    },
    "id": "Jco91xvTHjGx",
    "outputId": "ca14c624-a149-42b1-a1c8-6aa97c0eb954"
   },
   "outputs": [],
   "source": [
    "results = ranked_search(4, tf_idf, 'suffering from worms')"
   ]
  },
  {
   "cell_type": "code",
   "execution_count": 37,
   "id": "Cv2ecV9FH5z6",
   "metadata": {
    "colab": {
     "base_uri": "https://localhost:8080/"
    },
    "id": "Cv2ecV9FH5z6",
    "outputId": "87e2e8e6-0293-4167-b40a-01a8d308f56c"
   },
   "outputs": [
    {
     "data": {
      "text/plain": [
       "['Urines have been prescribed as digestive stimulants, antidotes to poison and as vermicides. They are excellent for the treatment of persons suffering from pandu (anemia). [97.5]\\n',\n",
       " 'The urine of cow is slightly sweet, alleviates discordance of dosha. It cures worms, skin diseases (kushtha) and relieves itching. Its proper intake cures disorders of abdomen. [101]\\n',\n",
       " 'The urine of buffalo provides relief in piles, edema and disorders leading to general enlargement of abdomen (udara).  The urine of she-elephant is salty and provides relief in worms and dermatoses (kushtha).  It is also useful in the treatment of retention of feces and urine, poisoning, kapha disorders and piles. [102.5]\\n']"
      ]
     },
     "execution_count": 37,
     "metadata": {},
     "output_type": "execute_result"
    }
   ],
   "source": [
    "[filtered2[i] for i in results]"
   ]
  },
  {
   "cell_type": "markdown",
   "id": "5IhQIGWYuc16",
   "metadata": {
    "id": "5IhQIGWYuc16"
   },
   "source": [
    "## Euclidian Distance"
   ]
  },
  {
   "cell_type": "code",
   "execution_count": null,
   "id": "wXyQNzGivGFo",
   "metadata": {
    "id": "wXyQNzGivGFo"
   },
   "outputs": [],
   "source": []
  },
  {
   "cell_type": "code",
   "execution_count": 38,
   "id": "YYCmy5ZztExY",
   "metadata": {
    "id": "YYCmy5ZztExY"
   },
   "outputs": [],
   "source": [
    "# def Euclidian(question_vector, sentence_vector):\n",
    "#   vec1 = question_vector.copy()\n",
    "#   vec2 = sentence_vector.copy()\n",
    "#   if len(vec1)<len(vec2): vec1,vec2 = vec2, vec1\n",
    "#   vec2 = np.resize(vec2, (vec1.shape[0], vec1.shape[1]))\n",
    "#   return np.linalg.norm(vec1-vec2)"
   ]
  },
  {
   "cell_type": "code",
   "execution_count": null,
   "id": "v_8rpOjDvLX9",
   "metadata": {
    "id": "v_8rpOjDvLX9"
   },
   "outputs": [],
   "source": []
  },
  {
   "cell_type": "code",
   "execution_count": null,
   "id": "EncsyHU6vj7X",
   "metadata": {
    "id": "EncsyHU6vj7X"
   },
   "outputs": [],
   "source": []
  }
 ],
 "metadata": {
  "colab": {
   "provenance": []
  },
  "kernelspec": {
   "display_name": "Python 3 (ipykernel)",
   "language": "python",
   "name": "python3"
  },
  "language_info": {
   "codemirror_mode": {
    "name": "ipython",
    "version": 3
   },
   "file_extension": ".py",
   "mimetype": "text/x-python",
   "name": "python",
   "nbconvert_exporter": "python",
   "pygments_lexer": "ipython3",
   "version": "3.11.0rc1"
  }
 },
 "nbformat": 4,
 "nbformat_minor": 5
}
